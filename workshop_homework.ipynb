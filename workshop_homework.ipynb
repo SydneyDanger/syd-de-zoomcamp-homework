{
 "cells": [
  {
   "cell_type": "markdown",
   "id": "7ab0c2d2-145f-43cc-8e76-2ed97c993f23",
   "metadata": {},
   "source": [
    "## WORKSHOP HOMEWORK"
   ]
  },
  {
   "cell_type": "markdown",
   "id": "450310c5-59d2-4f5c-a189-3ebe7a63fd9d",
   "metadata": {},
   "source": [
    "### Question 1\n",
    "What is the sum of the outputs of the generator for limit = 5?\n",
    "What is the 13th number yielded?"
   ]
  },
  {
   "cell_type": "code",
   "execution_count": 4,
   "id": "9db458b1-9483-4a86-b9da-6e3791e2e1d2",
   "metadata": {},
   "outputs": [
    {
     "name": "stdout",
     "output_type": "stream",
     "text": [
      "8.382332347441762\n"
     ]
    }
   ],
   "source": [
    "def square_root_generator(limit):\n",
    "    n = 1\n",
    "    while n <= limit:\n",
    "        yield n ** 0.5\n",
    "        n += 1\n",
    "\n",
    "limit = 5\n",
    "generator = square_root_generator(limit)\n",
    "sum_limit_5 = 0\n",
    "\n",
    "for sqrt_value in generator:\n",
    "    sum_limit_5 += sqrt_value\n",
    "    # print(sqrt_value)\n",
    "\n",
    "print(sum_limit_5)"
   ]
  },
  {
   "cell_type": "markdown",
   "id": "48bdabc5-4ffc-48cd-87de-5f91dca28507",
   "metadata": {},
   "source": [
    "### Question 2\n",
    "What is the 13th number generated?"
   ]
  },
  {
   "cell_type": "code",
   "execution_count": 5,
   "id": "0b4e6759-528c-4745-bd12-bb1f440a89cd",
   "metadata": {},
   "outputs": [
    {
     "name": "stdout",
     "output_type": "stream",
     "text": [
      "1.0\n",
      "1.4142135623730951\n",
      "1.7320508075688772\n",
      "2.0\n",
      "2.23606797749979\n",
      "2.449489742783178\n",
      "2.6457513110645907\n",
      "2.8284271247461903\n",
      "3.0\n",
      "3.1622776601683795\n",
      "3.3166247903554\n",
      "3.4641016151377544\n",
      "3.605551275463989\n"
     ]
    }
   ],
   "source": [
    "limit = 13\n",
    "generator = square_root_generator(limit)\n",
    "sum_limit_5 = 0\n",
    "\n",
    "for sqrt_value in generator:\n",
    "    print(sqrt_value)"
   ]
  },
  {
   "cell_type": "markdown",
   "id": "db449226-6513-4f97-b262-a7cbbaa925ee",
   "metadata": {},
   "source": [
    "### Question 3\n",
    "Append the two generators, after appending calculate the sum of all ages"
   ]
  },
  {
   "cell_type": "code",
   "execution_count": 6,
   "id": "67c9f697-91b2-444d-aea7-585aeb5aa5b3",
   "metadata": {},
   "outputs": [
    {
     "name": "stdout",
     "output_type": "stream",
     "text": [
      "{'ID': 1, 'Name': 'Person_1', 'Age': 26, 'City': 'City_A'}\n",
      "{'ID': 2, 'Name': 'Person_2', 'Age': 27, 'City': 'City_A'}\n",
      "{'ID': 3, 'Name': 'Person_3', 'Age': 28, 'City': 'City_A'}\n",
      "{'ID': 4, 'Name': 'Person_4', 'Age': 29, 'City': 'City_A'}\n",
      "{'ID': 5, 'Name': 'Person_5', 'Age': 30, 'City': 'City_A'}\n",
      "{'ID': 3, 'Name': 'Person_3', 'Age': 33, 'City': 'City_B', 'Occupation': 'Job_3'}\n",
      "{'ID': 4, 'Name': 'Person_4', 'Age': 34, 'City': 'City_B', 'Occupation': 'Job_4'}\n",
      "{'ID': 5, 'Name': 'Person_5', 'Age': 35, 'City': 'City_B', 'Occupation': 'Job_5'}\n",
      "{'ID': 6, 'Name': 'Person_6', 'Age': 36, 'City': 'City_B', 'Occupation': 'Job_6'}\n",
      "{'ID': 7, 'Name': 'Person_7', 'Age': 37, 'City': 'City_B', 'Occupation': 'Job_7'}\n",
      "{'ID': 8, 'Name': 'Person_8', 'Age': 38, 'City': 'City_B', 'Occupation': 'Job_8'}\n"
     ]
    }
   ],
   "source": [
    "def people_1():\n",
    "    for i in range(1, 6):\n",
    "        yield {\"ID\": i, \"Name\": f\"Person_{i}\", \"Age\": 25 + i, \"City\": \"City_A\"}\n",
    "\n",
    "for person in people_1():\n",
    "    print(person)\n",
    "\n",
    "\n",
    "def people_2():\n",
    "    for i in range(3, 9):\n",
    "        yield {\"ID\": i, \"Name\": f\"Person_{i}\", \"Age\": 30 + i, \"City\": \"City_B\", \"Occupation\": f\"Job_{i}\"}\n",
    "\n",
    "\n",
    "for person in people_2():\n",
    "    print(person)"
   ]
  },
  {
   "cell_type": "code",
   "execution_count": 15,
   "id": "0790783d-f91a-425b-8bc2-a93332f65f79",
   "metadata": {},
   "outputs": [
    {
     "data": {
      "text/plain": [
       "<duckdb.duckdb.DuckDBPyConnection at 0x18c1084e330>"
      ]
     },
     "execution_count": 15,
     "metadata": {},
     "output_type": "execute_result"
    }
   ],
   "source": [
    "import duckdb\n",
    "\n",
    "conn = duckdb.connect()\n",
    "\n",
    "create_table_sql = '''\n",
    "CREATE TABLE people (\n",
    "    ID INTEGER,\n",
    "    Name VARCHAR,\n",
    "    Age INTEGER,\n",
    "    City VARCHAR\n",
    ")\n",
    "'''\n",
    "conn.execute(create_table_sql)"
   ]
  },
  {
   "cell_type": "code",
   "execution_count": 36,
   "id": "84f214d5-12a0-44d3-b623-68f9d2cbbc80",
   "metadata": {},
   "outputs": [],
   "source": [
    "# insert first group\n",
    "insert_sql = 'INSERT INTO people (ID, Name, Age, City) VALUES (?, ?, ?, ?)'\n",
    "for person in people_1():\n",
    "    conn.execute(insert_sql, (person[\"ID\"], person[\"Name\"], person[\"Age\"], person[\"City\"]))"
   ]
  },
  {
   "cell_type": "code",
   "execution_count": 37,
   "id": "36a4099c-63e4-4765-9eca-ac964ae5a0e4",
   "metadata": {},
   "outputs": [
    {
     "name": "stdout",
     "output_type": "stream",
     "text": [
      "140\n"
     ]
    }
   ],
   "source": [
    "ages = conn.execute(\"SELECT SUM(Age) FROM people\").fetchone()\n",
    "print(ages[0])"
   ]
  },
  {
   "cell_type": "code",
   "execution_count": 38,
   "id": "7b564df6-8868-40b2-a3fb-e081b74e0d48",
   "metadata": {},
   "outputs": [],
   "source": [
    "# insert second group\n",
    "insert_sql = 'INSERT INTO people (ID, Name, Age, City) VALUES (?, ?, ?, ?)'\n",
    "for person in people_2():\n",
    "    conn.execute(insert_sql, (person[\"ID\"], person[\"Name\"], person[\"Age\"], person[\"City\"]))"
   ]
  },
  {
   "cell_type": "code",
   "execution_count": 39,
   "id": "402bcbba-85d3-4b13-8a5e-153f6e00eaba",
   "metadata": {},
   "outputs": [
    {
     "name": "stdout",
     "output_type": "stream",
     "text": [
      "353\n"
     ]
    }
   ],
   "source": [
    "ages = conn.execute(\"SELECT SUM(Age) FROM people\").fetchone()\n",
    "print(ages[0])"
   ]
  },
  {
   "cell_type": "markdown",
   "id": "70078006-97f0-4434-9e41-1b2d7e919a61",
   "metadata": {},
   "source": [
    "### Question 4\n",
    "Merge the two generators using the ID column and calculate the sum of all ages"
   ]
  },
  {
   "cell_type": "code",
   "execution_count": 40,
   "id": "e73e57f5-fbee-40ec-ad39-d8045890af41",
   "metadata": {},
   "outputs": [],
   "source": [
    "conn.execute('''\n",
    "CREATE TABLE people_merged (\n",
    "    ID INTEGER PRIMARY KEY,\n",
    "    Name VARCHAR,\n",
    "    Age INTEGER,\n",
    "    City VARCHAR,\n",
    "    Occupation VARCHAR\n",
    ")\n",
    "''')\n",
    "\n",
    "insert_sql = 'INSERT INTO people_merged (ID, Name, Age, City) VALUES (?, ?, ?, ?)'\n",
    "\n",
    "for person in people_1():\n",
    "    try:\n",
    "        conn.execute(insert_sql, (person[\"ID\"], person[\"Name\"], person[\"Age\"], person[\"City\"]))\n",
    "    except Exception as e:\n",
    "        print(f\"An error occurred: {e}\")\n",
    "\n",
    "upsert_sql = '''\n",
    "INSERT INTO people_merged (ID, Name, Age, City, Occupation) VALUES (?, ?, ?, ?, ?)\n",
    "ON CONFLICT (ID) DO UPDATE SET Name = EXCLUDED.Name, Age = EXCLUDED.Age, City = EXCLUDED.City, Occupation = EXCLUDED.Occupation\n",
    "'''\n",
    "\n",
    "for person in people_2():\n",
    "    try:\n",
    "        conn.execute(upsert_sql, (person[\"ID\"], person[\"Name\"], person[\"Age\"], person[\"City\"], person[\"Occupation\"]))\n",
    "    except Exception as e:\n",
    "        print(f\"An error occurred: {e}\")"
   ]
  },
  {
   "cell_type": "code",
   "execution_count": 41,
   "id": "f069844a-a58a-4039-aca0-0f4311ba35b9",
   "metadata": {},
   "outputs": [
    {
     "name": "stdout",
     "output_type": "stream",
     "text": [
      "Total records: 8\n",
      "Details for ID 3: (3, 'Person_3', 33, 'City_B', 'Job_3')\n"
     ]
    }
   ],
   "source": [
    "# Verify the total number of records\n",
    "total_records = conn.execute(\"SELECT COUNT(*) FROM people_merged\").fetchall()[0][0]\n",
    "print(f\"Total records: {total_records}\")\n",
    "\n",
    "# Verify the details for ID 3\n",
    "id_3_details = conn.execute(\"SELECT * FROM people_merged WHERE ID = 3\").fetchall()[0]\n",
    "print(f\"Details for ID 3: {id_3_details}\")"
   ]
  },
  {
   "cell_type": "code",
   "execution_count": 42,
   "id": "020f6349-cb45-4e52-afd8-64bfdb32aa43",
   "metadata": {},
   "outputs": [
    {
     "name": "stdout",
     "output_type": "stream",
     "text": [
      "266\n"
     ]
    }
   ],
   "source": [
    "ages = conn.execute(\"SELECT SUM(Age) FROM people_merged\").fetchone()\n",
    "print(ages[0])"
   ]
  },
  {
   "cell_type": "code",
   "execution_count": null,
   "id": "a373c8b8-425b-44ca-a15d-f8ec58fc411f",
   "metadata": {},
   "outputs": [],
   "source": []
  }
 ],
 "metadata": {
  "kernelspec": {
   "display_name": "Python 3 (ipykernel)",
   "language": "python",
   "name": "python3"
  },
  "language_info": {
   "codemirror_mode": {
    "name": "ipython",
    "version": 3
   },
   "file_extension": ".py",
   "mimetype": "text/x-python",
   "name": "python",
   "nbconvert_exporter": "python",
   "pygments_lexer": "ipython3",
   "version": "3.11.3"
  }
 },
 "nbformat": 4,
 "nbformat_minor": 5
}
